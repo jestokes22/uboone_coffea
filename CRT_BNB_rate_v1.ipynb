{
 "cells": [
  {
   "cell_type": "markdown",
   "metadata": {},
   "source": [
    "# Dimuon spectrum\n",
    "\n",
    "This code is a columnar adaptation of [a ROOT tutorial](https://root.cern.ch/doc/master/df102__NanoAODDimuonAnalysis_8py.html) showcasing the awkward array toolset, and utilizing FCAT histograms."
   ]
  },
  {
   "cell_type": "code",
   "execution_count": 1,
   "metadata": {},
   "outputs": [],
   "source": [
    "import time\n",
    "import uproot\n",
    "import uproot_methods\n",
    "import awkward\n",
    "\n",
    "%matplotlib inline\n",
    "from coffea import hist"
   ]
  },
  {
   "cell_type": "code",
   "execution_count": 14,
   "metadata": {},
   "outputs": [],
   "source": [
    "tstart = time.time()\n",
    "\n",
    "files = [\n",
    "    'data/BNB_CRT.root',\n",
    "]\n",
    "\n",
    "crt_time_hist = hist.Hist(\"Counts\", hist.Bin(\"hit_time\", r\"$time$ [ns]\",100,0,20000))\n",
    "#                hist.Hist(\"Counts\", hist.Bin(\"mass\", r\"$m_{\\mu\\mu}$ [GeV]\", 30000, 0.25, 300))\n",
    "events = uproot.open(files[0])[\"crtveto/_tree\"]\n"
   ]
  },
  {
   "cell_type": "code",
   "execution_count": 6,
   "metadata": {},
   "outputs": [
    {
     "data": {
      "text/plain": [
       "['_run',\n",
       " '_subrun',\n",
       " '_event',\n",
       " '_nflashes_in_beamgate',\n",
       " '_nflashes_in_beamgate_passing_beamspill_and_PE_cuts',\n",
       " '_beam_flash_time',\n",
       " '_beam_flash_PE',\n",
       " '_nCRThits_in_event',\n",
       " '_CRT_hit_time',\n",
       " '_CRT_hit_PE',\n",
       " '_CRT_hit_x',\n",
       " '_CRT_hit_y',\n",
       " '_CRT_hit_z',\n",
       " 'CRT_hits_time',\n",
       " 'CRT_hits_PE',\n",
       " 'CRT_hits_x',\n",
       " 'CRT_hits_y',\n",
       " 'CRT_hits_z',\n",
       " '_nu_e',\n",
       " '_nu_ccnc',\n",
       " '_nu_vtx_x',\n",
       " '_nu_vtx_y',\n",
       " '_nu_vtx_z',\n",
       " '_dt',\n",
       " '_within_resolution',\n",
       " '_above_CRT_threshold']"
      ]
     },
     "execution_count": 6,
     "metadata": {},
     "output_type": "execute_result"
    }
   ],
   "source": [
    "branches = ['_run']\n",
    "events.keys()"
   ]
  },
  {
   "cell_type": "code",
   "execution_count": 29,
   "metadata": {},
   "outputs": [],
   "source": [
    "tstart = time.time()\n",
    "\n",
    "branches = ['_run', '_subrun', '_event','_CRT_hit_time']\n",
    "for chunk in uproot.iterate(files, 'crtveto/_tree', branches=branches, entrysteps=10000, namedecode='ascii'):\n",
    "    run = chunk.pop('_run')\n",
    "    #hit_time = chunk.pop('_CRT_hit_time')\n",
    "#    print hit_time\n",
    "    crt_time_hist.fill(hit_time=chunk.pop('_CRT_hit_time'))\n",
    "    \n",
    "elapsed = time.time() - tstart"
   ]
  },
  {
   "cell_type": "code",
   "execution_count": 30,
   "metadata": {},
   "outputs": [
    {
     "data": {
      "text/plain": [
       "(0.1, 1000000.0)"
      ]
     },
     "execution_count": 30,
     "metadata": {},
     "output_type": "execute_result"
    },
    {
     "data": {
      "image/png": "[encoded data removed]",
      "text/plain": [
       "<Figure size 432x288 with 1 Axes>"
      ]
     },
     "metadata": {
      "needs_background": "light"
     },
     "output_type": "display_data"
    }
   ],
   "source": [
    "fig, ax, _ = hist.plot1d(crt_time_hist)\n",
    "ax.set_xscale('log')\n",
    "ax.set_yscale('log')\n",
    "ax.set_ylim(0.1, 1e6)"
   ]
  },
  {
   "cell_type": "code",
   "execution_count": 31,
   "metadata": {},
   "outputs": [
    {
     "name": "stdout",
     "output_type": "stream",
     "text": [
      "('Events/s:', 140999.01436757424)\n"
     ]
    }
   ],
   "source": [
    "print(\"Events/s:\", crt_time_hist.values()[()].sum()/elapsed)"
   ]
  },
  {
   "cell_type": "code",
   "execution_count": null,
   "metadata": {},
   "outputs": [],
   "source": []
  }
 ],
 "metadata": {
  "kernelspec": {
   "display_name": "Python 2",
   "language": "python",
   "name": "python2"
  },
  "language_info": {
   "codemirror_mode": {
    "name": "ipython",
    "version": 2
   },
   "file_extension": ".py",
   "mimetype": "text/x-python",
   "name": "python",
   "nbconvert_exporter": "python",
   "pygments_lexer": "ipython2",
   "version": "2.7.15"
  }
 },
 "nbformat": 4,
 "nbformat_minor": 2
}
